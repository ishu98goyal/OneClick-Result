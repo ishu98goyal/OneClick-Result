{
 "cells": [
  {
   "cell_type": "code",
   "execution_count": 4,
   "metadata": {},
   "outputs": [],
   "source": [
    "from selenium import webdriver\n",
    "driver=webdriver.Chrome(executable_path='/Users/IshuG/Desktop/chromedriver')\n",
    "driver.get('https://erpsrm.com/srmhonline/online/results/onlineResult.jsp')\n"
   ]
  },
  {
   "cell_type": "code",
   "execution_count": 5,
   "metadata": {},
   "outputs": [],
   "source": [
    "start=pd.read_csv('srm.csv')\n",
    "df=start.copy()\n",
    "df=df[39:]\n"
   ]
  },
  {
   "cell_type": "code",
   "execution_count": null,
   "metadata": {},
   "outputs": [
    {
     "name": "stdout",
     "output_type": "stream",
     "text": [
      "Aadhar Kaushik 8.421\n",
      "Aanshit Agarwal 7.895\n",
      "Aashish Baweja 8.053\n",
      "Aayush Bansal 9.053\n",
      "Aayush Gupta 8.263\n",
      "Abhinandan 7.632\n",
      "Abhinav Parasher 8.158\n",
      "Abhishek Singh 6.579\n",
      "Abhishek Singh Rathore 7.211\n",
      "Achintya 5.105\n",
      "Aditya Sachdeva 8.053\n",
      "Agam Mishra 7.579\n",
      "Aishwarya Mahajan 8.895\n",
      "Akanksha Jaitley 8.579\n",
      "Akshat Verma 7.947\n",
      "Aman Kumar Jha 8.105\n",
      "Ankit Sharma 6.632\n",
      "Ankush 7.684\n",
      "Annabel Artigau Ezung 7.368\n",
      "Anusha Kaul 7.474\n",
      "Archit Sajjan 8.684\n",
      "Arika Gulati 8.474\n",
      "Arunima Mor 8.263\n",
      "Ashish Katehra 7.053\n",
      "Ayush Goel 7.737\n",
      "Ayush Gupta 7.947\n",
      "Ayushi Pawar 6.579\n",
      "Bhavik Swami 6.947\n",
      "Biswa Bijaya Samal 7.842\n",
      "Darpan Vyas 7.684\n",
      "Devansh Gupta 8.105\n",
      "Diwakar Thakur 8.000\n",
      "Eshan Jairath 7.579\n",
      "Harshit Arora 7.737\n",
      "Ishank  Jain 7.316\n",
      "Ishmin Singh 7.789\n",
      "Ishu Goyal 8.632\n",
      "Jatin Gupta 8.263\n",
      "Jivesh Singh 8.316\n",
      "Karan Batra 7.789\n",
      "Karan Kapoor 7.842\n",
      "Kartik Gupta 8.263\n",
      "Kartik Singh 8.263\n",
      "Kirti Sethi 8.158\n",
      "Krishna Bir 7.211\n"
     ]
    }
   ],
   "source": [
    "from bs4 import BeautifulSoup\n",
    "import pandas as pd\n",
    "\n",
    "for i,j,k in zip(df['Roll'],df['DOB'],df['Name']):\n",
    "    username=driver.find_element_by_name('txtRegisterno')\n",
    "    username.send_keys(i)\n",
    "    password=driver.find_element_by_name('txtDob')\n",
    "    \n",
    "    str1=''\n",
    "    for x in j:\n",
    "        if(x=='-'):\n",
    "            str1=str1+'/'\n",
    "        else:    \n",
    "            str1=str1+x\n",
    "\n",
    "    password.send_keys(str1)\n",
    "    submit=driver.find_element_by_xpath('//*[@class=\"submitButton\"]')\n",
    "    driver.execute_script(\"arguments[0].click();\", submit)\n",
    "    driver.implicitly_wait(15)\n",
    "    table=driver.find_elements_by_xpath('//table[@id=\"table2\"]/tbody/tr/td')\n",
    "    if (driver.find_elements_by_xpath('//table[@id=\"table2\"]/tbody/tr/td')):\n",
    "        print(k,table[1].text)\n",
    "        driver.refresh()\n",
    "    else:\n",
    "        driver.refresh()\n"
   ]
  },
  {
   "cell_type": "code",
   "execution_count": null,
   "metadata": {},
   "outputs": [],
   "source": [
    "df['DOB'].replace('/','-', inplace=True)"
   ]
  },
  {
   "cell_type": "code",
   "execution_count": null,
   "metadata": {},
   "outputs": [],
   "source": [
    "df"
   ]
  },
  {
   "cell_type": "code",
   "execution_count": null,
   "metadata": {},
   "outputs": [],
   "source": []
  },
  {
   "cell_type": "code",
   "execution_count": null,
   "metadata": {},
   "outputs": [],
   "source": []
  }
 ],
 "metadata": {
  "kernelspec": {
   "display_name": "Python 3",
   "language": "python",
   "name": "python3"
  },
  "language_info": {
   "codemirror_mode": {
    "name": "ipython",
    "version": 3
   },
   "file_extension": ".py",
   "mimetype": "text/x-python",
   "name": "python",
   "nbconvert_exporter": "python",
   "pygments_lexer": "ipython3",
   "version": "3.7.0"
  }
 },
 "nbformat": 4,
 "nbformat_minor": 2
}
